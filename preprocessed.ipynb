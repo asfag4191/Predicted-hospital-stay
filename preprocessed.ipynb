{
 "cells": [
  {
   "cell_type": "code",
   "execution_count": 2,
   "metadata": {},
   "outputs": [],
   "source": [
    "import pandas as pd\n",
    "import numpy as np\n",
    "\n",
    "from pandas import get_dummies\n",
    "from sklearn.preprocessing import OneHotEncoder\n",
    "from sklearn.impute import KNNImputer\n",
    "\n",
    "\n"
   ]
  },
  {
   "cell_type": "markdown",
   "metadata": {},
   "source": [
    "## 1.1 Leser filer"
   ]
  },
  {
   "cell_type": "code",
   "execution_count": 3,
   "metadata": {},
   "outputs": [],
   "source": [
    "df_hospital=pd.read_csv('sample_data/hospital.csv')\n",
    "df_physiological=pd.read_table('sample_data/physiological.txt')\n",
    "df_demographic=pd.read_csv('sample_data/demographic.csv')\n",
    "\n",
    "json_df=pd.read_json('sample_data/severity.json')\n",
    "df_severity = json_df.iloc[:, 0:-1].explode(list(json_df.columns[2:-1])) \n",
    "df_severity.reset_index(drop=True, inplace=True)"
   ]
  },
  {
   "cell_type": "markdown",
   "metadata": {},
   "source": [
    "#### 1.1.1 Slår sammen tabellene"
   ]
  },
  {
   "cell_type": "code",
   "execution_count": 4,
   "metadata": {},
   "outputs": [],
   "source": [
    "df=df_demographic.merge(df_hospital,on='pasient_id',how='outer')\\\n",
    "    .merge(df_physiological,on='pasient_id',how='outer')\\\n",
    "    .merge(df_severity,on='pasient_id',how='outer')"
   ]
  },
  {
   "cell_type": "markdown",
   "metadata": {},
   "source": [
    "## 1.2 Fjerner "
   ]
  },
  {
   "cell_type": "code",
   "execution_count": 5,
   "metadata": {},
   "outputs": [],
   "source": [
    "df = df.drop_duplicates(subset=['pasient_id']).reset_index(drop=True)\n",
    "df.set_index('pasient_id', inplace=True)"
   ]
  },
  {
   "cell_type": "code",
   "execution_count": 6,
   "metadata": {},
   "outputs": [],
   "source": [
    "df.drop(columns=['sykehusdød'], inplace=True)\n",
    "\n",
    "df.drop(columns=['dødsfall'], inplace=True)\n"
   ]
  },
  {
   "cell_type": "code",
   "execution_count": 7,
   "metadata": {},
   "outputs": [],
   "source": [
    "df.drop(columns=['adl_pasient'], inplace=True)\n",
    "\n",
    "\n",
    "df.drop(columns=['bilirubin'], inplace=True)\n"
   ]
  },
  {
   "cell_type": "code",
   "execution_count": 8,
   "metadata": {},
   "outputs": [],
   "source": [
    "df.drop(columns=['dnr_status'], inplace=True)\n"
   ]
  },
  {
   "cell_type": "code",
   "execution_count": 9,
   "metadata": {},
   "outputs": [],
   "source": [
    "df.drop(columns=['sykdomskategori_id'], inplace=True)\n"
   ]
  },
  {
   "cell_type": "markdown",
   "metadata": {},
   "source": [
    "#### 1.2.1 Setter negative verdier for alder til NaN"
   ]
  },
  {
   "cell_type": "code",
   "execution_count": 10,
   "metadata": {},
   "outputs": [],
   "source": [
    "df['alder'] = df['alder'].apply(lambda x: x if pd.isnull(x) or x > 0 else np.nan)\n",
    "\n"
   ]
  },
  {
   "cell_type": "markdown",
   "metadata": {},
   "source": [
    "## 1.3.1 Kategorisk til numerisk "
   ]
  },
  {
   "cell_type": "markdown",
   "metadata": {},
   "source": [
    "#### 1.3.1 Kjønn og etnisitet"
   ]
  },
  {
   "cell_type": "code",
   "execution_count": 11,
   "metadata": {},
   "outputs": [],
   "source": [
    "most_frequent_etnisitet = df['etnisitet'].mode()[0] \n",
    "\n",
    "df['etnisitet'] = df['etnisitet'].fillna(most_frequent_etnisitet)\n",
    "\n",
    "etnisitet_mapping = {\n",
    "    'white': 0,\n",
    "    'black': 1,\n",
    "    'asian': 2,\n",
    "    'hispanic': 3,\n",
    "    'other': 4,\n",
    "}\n",
    "\n",
    "df['etnisitet'] = df['etnisitet'].map(etnisitet_mapping)\n"
   ]
  },
  {
   "cell_type": "code",
   "execution_count": 12,
   "metadata": {},
   "outputs": [],
   "source": [
    "df=get_dummies(df, columns=['kjønn'])\n",
    "df['kjønn'] = df['kjønn_male'].astype(int)  \n",
    "df.drop(columns=['kjønn_female', 'kjønn_male'], inplace=True) \n"
   ]
  },
  {
   "cell_type": "markdown",
   "metadata": {},
   "source": [
    "#### 1.3.2 Sykehuskategori, underkategori og kreft."
   ]
  },
  {
   "cell_type": "code",
   "execution_count": 13,
   "metadata": {},
   "outputs": [],
   "source": [
    "sykdomskategori_mapping = {\n",
    "            'ARF/MOSF': 1,\n",
    "            'COPD/CHF/Cirrhosis': 2,\n",
    "            'Coma': 3,\n",
    "            'Cancer': 4,\n",
    "    }\n",
    "df['sykdomskategori'] = df['sykdomskategori'].map(sykdomskategori_mapping)\n"
   ]
  },
  {
   "cell_type": "code",
   "execution_count": 14,
   "metadata": {},
   "outputs": [],
   "source": [
    "columns_to_encode = ['kreft', 'sykdom_underkategori']\n",
    "\n",
    "encoder = OneHotEncoder(drop=None, sparse_output=False)\n",
    "\n",
    "df_encoded_columns = encoder.fit_transform(df[columns_to_encode])\n",
    "df_encoded_df = pd.DataFrame(df_encoded_columns, columns=encoder.get_feature_names_out(columns_to_encode))\n",
    "\n",
    "df = df.drop(columns=columns_to_encode).reset_index(drop=True)\n",
    "df_encoded_df = df_encoded_df.reset_index(drop=True)\n",
    "df = pd.concat([df, df_encoded_df], axis=1)\n",
    "\n"
   ]
  },
  {
   "cell_type": "code",
   "execution_count": 15,
   "metadata": {},
   "outputs": [],
   "source": [
    "df['kreft'] = ((df['kreft_yes'] == 1) | (df['kreft_metastatic'] == 1)).astype(int)\n",
    "df.drop(columns=['kreft_yes', 'kreft_no'], inplace=True)"
   ]
  },
  {
   "cell_type": "markdown",
   "metadata": {},
   "source": [
    "#### 1.3.3 Inntekt og utdanning"
   ]
  },
  {
   "cell_type": "code",
   "execution_count": 16,
   "metadata": {},
   "outputs": [],
   "source": [
    "income_mapping= {\n",
    "    'under $11k': 0,\n",
    "    '$11-$25k': 1,\n",
    "    '$25-$50k': 2,\n",
    "    '>$50k': 3,\n",
    "}\n",
    "\n",
    "df['inntekt'] = df['inntekt'].map(income_mapping).astype(float)"
   ]
  },
  {
   "cell_type": "code",
   "execution_count": 17,
   "metadata": {},
   "outputs": [],
   "source": [
    "bins = [1, 11, 14, 17, float('inf')]\n",
    "labels = ['grunnskole/ungdomskole', 'videregående', 'høyere utdanning', 'postgraduate']\n",
    "\n",
    "df['utdanning_kategori'] = pd.cut(df['utdanning'], bins=bins, labels=labels, include_lowest=True)\n",
    "\n",
    "utdanning_mapping = {\n",
    "    'grunnskole/ungdomskole': 0,\n",
    "    'videregående': 1,\n",
    "    'høyere utdanning': 2,\n",
    "    'videre utdanning': 3,\n",
    "}\n",
    "\n",
    "df['utdanning_kategori'] = df['utdanning_kategori'].map(utdanning_mapping)\n",
    "\n",
    "df.drop(columns=['utdanning'], inplace=True)\n"
   ]
  },
  {
   "cell_type": "markdown",
   "metadata": {},
   "source": [
    "## 1.4.1 Gjør om navn og konverterer"
   ]
  },
  {
   "cell_type": "code",
   "execution_count": 18,
   "metadata": {},
   "outputs": [],
   "source": [
    "df.rename(columns={\n",
    "    'sykdom_underkategori_Coma': 'sykdom_Coma',\n",
    "    'sykdom_underkategori_Cancer': 'sykdom_Cancer',\n",
    "    'sykdom_underkategori_Cirrhosis': 'sykdom_Cirrhosis',\n",
    "    'sykdom_underkategori_ARF/MOSF w/Sepsis': 'sykdom_ARF/MOSF w/Sepsis',\n",
    "    'sykdom_underkategori_COPD': 'sykdom_COPD',\n",
    "    'sykdom_underkategori_CHF': 'sykdom_CHF',\n",
    "    'sykdom_underkategori_Lung Cancer': 'sykdom_Lung_Cancer',\n",
    "    'sykdom_underkategori_Colon Cancer': 'sykdom_Colon_Cancer',\n",
    "    'sykdom_underkategori_MOSF w/Malig': 'sykdom_MOSF w/Malig'\n",
    "}, inplace=True)"
   ]
  },
  {
   "cell_type": "code",
   "execution_count": 19,
   "metadata": {},
   "outputs": [],
   "source": [
    "columns_to_convert=[ \n",
    "    'antall_komorbiditeter', 'koma_score', 'adl_stedfortreder' , 'fysiologisk_score' , 'apache_fysiologisk_score',\n",
    "    'overlevelsesestimat_2mnd', 'overlevelsesestimat_6mnd', 'diabetes', 'demens', 'lege_overlevelsesestimat_2mnd',\n",
    "    'lege_overlevelsesestimat_6mnd', 'utdanning_kategori'\n",
    "]\n",
    "df[columns_to_convert] = df[columns_to_convert].apply(pd.to_numeric, errors='coerce')\n"
   ]
  },
  {
   "cell_type": "markdown",
   "metadata": {},
   "source": [
    "## 2.1.0 Fyller inn for NaN"
   ]
  },
  {
   "cell_type": "code",
   "execution_count": 20,
   "metadata": {},
   "outputs": [],
   "source": [
    "df.loc[:, 'blod_ph'] = df['blod_ph'].fillna(7.40)"
   ]
  },
  {
   "cell_type": "code",
   "execution_count": 21,
   "metadata": {},
   "outputs": [],
   "source": [
    "df.loc[:, 'lungefunksjon'] = df['lungefunksjon'].fillna(333.3)"
   ]
  },
  {
   "cell_type": "code",
   "execution_count": 22,
   "metadata": {},
   "outputs": [],
   "source": [
    "df.loc[:, 'blodurea_nitrogen'] = df['blodurea_nitrogen'].fillna(6.51)"
   ]
  },
  {
   "cell_type": "code",
   "execution_count": 23,
   "metadata": {},
   "outputs": [],
   "source": [
    "df.loc[:, 'glukose'] = df['glukose'].fillna(85)\n"
   ]
  },
  {
   "cell_type": "code",
   "execution_count": 24,
   "metadata": {},
   "outputs": [],
   "source": [
    "df.loc[:, 'urinmengde'] = df['urinmengde'].fillna(2502)\n"
   ]
  },
  {
   "cell_type": "code",
   "execution_count": 25,
   "metadata": {},
   "outputs": [
    {
     "name": "stdout",
     "output_type": "stream",
     "text": [
      "alder                            0\n",
      "inntekt                          0\n",
      "etnisitet                        0\n",
      "blodtrykk                        0\n",
      "hvite_blodlegemer                0\n",
      "hjertefrekvens                   0\n",
      "respirasjonsfrekvens             0\n",
      "kroppstemperatur                 0\n",
      "lungefunksjon                    0\n",
      "serumalbumin                     0\n",
      "kreatinin                        0\n",
      "natrium                          0\n",
      "blod_ph                          0\n",
      "glukose                          0\n",
      "blodurea_nitrogen                0\n",
      "urinmengde                       0\n",
      "sykdomskategori                  0\n",
      "antall_komorbiditeter            0\n",
      "koma_score                       0\n",
      "adl_stedfortreder                0\n",
      "fysiologisk_score                0\n",
      "apache_fysiologisk_score         0\n",
      "overlevelsesestimat_2mnd         0\n",
      "overlevelsesestimat_6mnd         0\n",
      "diabetes                         0\n",
      "demens                           0\n",
      "lege_overlevelsesestimat_2mnd    0\n",
      "lege_overlevelsesestimat_6mnd    0\n",
      "kjønn                            0\n",
      "kreft_metastatic                 0\n",
      "sykdom_ARF/MOSF w/Sepsis         0\n",
      "sykdom_CHF                       0\n",
      "sykdom_COPD                      0\n",
      "sykdom_Cirrhosis                 0\n",
      "sykdom_Colon_Cancer              0\n",
      "sykdom_Coma                      0\n",
      "sykdom_Lung_Cancer               0\n",
      "sykdom_MOSF w/Malig              0\n",
      "kreft                            0\n",
      "utdanning_kategori               0\n",
      "dtype: int64\n"
     ]
    }
   ],
   "source": [
    "imputer = KNNImputer(n_neighbors=100)\n",
    "\n",
    "X_sample_imputed = imputer.fit_transform(df)\n",
    "\n",
    "df = pd.DataFrame(X_sample_imputed, columns=df.columns)\n",
    "\n",
    "print(df.isnull().sum())\n",
    "\n",
    "\n"
   ]
  },
  {
   "cell_type": "markdown",
   "metadata": {},
   "source": [
    "## 3.1 Variabelutvinning"
   ]
  },
  {
   "cell_type": "code",
   "execution_count": 26,
   "metadata": {},
   "outputs": [],
   "source": [
    "df['fysiologisk_score_merge'] = (df['fysiologisk_score'] + df['apache_fysiologisk_score']) / 2\n",
    "df.drop(columns=['fysiologisk_score', 'apache_fysiologisk_score'], inplace=True)"
   ]
  },
  {
   "cell_type": "code",
   "execution_count": 27,
   "metadata": {},
   "outputs": [],
   "source": [
    "df['fysiologisk_komorbiditet_mult'] = df['fysiologisk_score_merge'] * df['antall_komorbiditeter']"
   ]
  },
  {
   "cell_type": "code",
   "execution_count": 28,
   "metadata": {},
   "outputs": [],
   "source": [
    "df['nyrefunksjon'] = df[['blodurea_nitrogen', 'kreatinin', 'natrium']].mean(axis=1)\n",
    "df.drop(columns=['blodurea_nitrogen', 'kreatinin', 'natrium'], inplace=True)"
   ]
  },
  {
   "cell_type": "code",
   "execution_count": 29,
   "metadata": {},
   "outputs": [],
   "source": [
    "df['hjertefunksjon'] = df[['blodtrykk', 'hjertefrekvens']].mean(axis=1)\n",
    "df.drop(columns=['blodtrykk', 'hjertefrekvens'], inplace=True)\n"
   ]
  },
  {
   "cell_type": "code",
   "execution_count": 30,
   "metadata": {},
   "outputs": [],
   "source": [
    "df['kreft_sammenslått'] = df[['kreft', 'kreft_metastatic']].max(axis=1)\n",
    "df.drop(columns=['kreft', 'kreft_metastatic'], inplace=True)\n",
    "\n"
   ]
  },
  {
   "cell_type": "markdown",
   "metadata": {},
   "source": [
    "#### 3.1.1 Fjerner kolonner"
   ]
  },
  {
   "cell_type": "code",
   "execution_count": 31,
   "metadata": {},
   "outputs": [],
   "source": [
    "df.drop(columns=[\n",
    "    'sykdom_Lung_Cancer',\n",
    "    'sykdom_Colon_Cancer',\n",
    "    'sykdom_ARF/MOSF w/Sepsis', \n",
    "    'sykdom_CHF', \n",
    "    'sykdom_COPD', \n",
    "    'sykdom_Cirrhosis', \n",
    "    'sykdom_Coma', \n",
    "    'sykdom_MOSF w/Malig',\n",
    "    'urinmengde'\n",
    "    ], inplace=True)"
   ]
  },
  {
   "cell_type": "code",
   "execution_count": 32,
   "metadata": {},
   "outputs": [],
   "source": [
    "import pickle\n",
    "\n",
    "with open('model.pkl', 'rb') as model_file:\n",
    "    model = pickle.load(model_file)"
   ]
  },
  {
   "cell_type": "code",
   "execution_count": 33,
   "metadata": {},
   "outputs": [],
   "source": [
    "predicted_model= model.predict(df)\n",
    "pd.DataFrame(predicted_model, columns=['predicted']).to_csv('predictions.csv', index=False)"
   ]
  },
  {
   "cell_type": "code",
   "execution_count": 34,
   "metadata": {},
   "outputs": [],
   "source": [
    "#with open('knn_imputer.pkl', 'wb') as file:\n",
    "    #pickle.dump(imputer, file)\n"
   ]
  }
 ],
 "metadata": {
  "kernelspec": {
   "display_name": "INF161",
   "language": "python",
   "name": "python3"
  },
  "language_info": {
   "codemirror_mode": {
    "name": "ipython",
    "version": 3
   },
   "file_extension": ".py",
   "mimetype": "text/x-python",
   "name": "python",
   "nbconvert_exporter": "python",
   "pygments_lexer": "ipython3",
   "version": "3.12.5"
  }
 },
 "nbformat": 4,
 "nbformat_minor": 2
}
